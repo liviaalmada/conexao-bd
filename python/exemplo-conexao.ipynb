{
 "cells": [
  {
   "cell_type": "markdown",
   "metadata": {},
   "source": [
    "<img src=\"schema-pessoa.png\" width=\"100\"/>"
   ]
  },
  {
   "cell_type": "code",
   "execution_count": 5,
   "metadata": {},
   "outputs": [],
   "source": [
    "import pandas as pd\n",
    "import psycopg2 as pg"
   ]
  },
  {
   "cell_type": "code",
   "execution_count": 6,
   "metadata": {},
   "outputs": [],
   "source": [
    "con = pg.connect(host='localhost', dbname='fbd-conexao', user='postgres', password='postgres')"
   ]
  },
  {
   "cell_type": "code",
   "execution_count": 10,
   "metadata": {},
   "outputs": [],
   "source": [
    "nome = 'Vitor Hugo'\n",
    "cpf='00100200345'\n",
    "sexo='feminino'\n",
    "nascimento='31-12-1994'\n",
    "salario=20000.00"
   ]
  },
  {
   "cell_type": "code",
   "execution_count": 12,
   "metadata": {},
   "outputs": [
    {
     "ename": "IndentationError",
     "evalue": "unexpected indent (3584581535.py, line 2)",
     "output_type": "error",
     "traceback": [
      "\u001b[1;36m  Cell \u001b[1;32mIn[12], line 2\u001b[1;36m\u001b[0m\n\u001b[1;33m    cursor.execute('insert into pessoa(nome, cpf, sexo, nascimento, salario) values(%s,%s,%s,%s,%s)',\u001b[0m\n\u001b[1;37m    ^\u001b[0m\n\u001b[1;31mIndentationError\u001b[0m\u001b[1;31m:\u001b[0m unexpected indent\n"
     ]
    }
   ],
   "source": [
    "cursor = con.cursor()\n",
    "    cursor.execute('insert into pessoa(nome, cpf, sexo, nascimento, salario) values(%s,%s,%s,%s,%s)', \n",
    "                (nome,cpf, sexo,nascimento,salario))\n",
    "    cursor.query\n",
    "    con.commit()"
   ]
  },
  {
   "cell_type": "code",
   "execution_count": 11,
   "metadata": {},
   "outputs": [],
   "source": [
    "try:\n",
    "    cursor = con.cursor()\n",
    "    cursor.execute('insert into pessoa(nome, cpf, sexo, nascimento, salario) values(%s,%s,%s,%s,%s)', \n",
    "                (nome,cpf, sexo,nascimento,salario))\n",
    "    cursor.query\n",
    "    con.commit()\n",
    "except:\n",
    "    cursor.execute('ROLLBACK')\n",
    "finally:\n",
    "    cursor.close()"
   ]
  },
  {
   "cell_type": "code",
   "execution_count": null,
   "metadata": {},
   "outputs": [],
   "source": []
  }
 ],
 "metadata": {
  "kernelspec": {
   "display_name": ".venv",
   "language": "python",
   "name": "python3"
  },
  "language_info": {
   "codemirror_mode": {
    "name": "ipython",
    "version": 3
   },
   "file_extension": ".py",
   "mimetype": "text/x-python",
   "name": "python",
   "nbconvert_exporter": "python",
   "pygments_lexer": "ipython3",
   "version": "3.12.5"
  }
 },
 "nbformat": 4,
 "nbformat_minor": 2
}
